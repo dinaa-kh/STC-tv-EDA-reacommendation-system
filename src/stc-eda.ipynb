{
 "cells": [
  {
   "cell_type": "code",
   "execution_count": 1,
   "metadata": {},
   "outputs": [],
   "source": [
    "import pandas as pd\n",
    "import numpy as np\n",
    "import seaborn as sns\n",
    "import matplotlib.pyplot as plt\n",
    "import matplotlib.lines as lines\n",
    "import matplotlib.image as image\n",
    "from matplotlib.offsetbox import TextArea, DrawingArea, OffsetImage, AnnotationBbox\n"
   ]
  },
  {
   "cell_type": "code",
   "execution_count": 2,
   "metadata": {},
   "outputs": [],
   "source": [
    "stc = pd.read_csv('/Users/dinaabed/Desktop/Final_Dataset.txt', delimiter = \",\")"
   ]
  },
  {
   "cell_type": "code",
   "execution_count": 3,
   "metadata": {},
   "outputs": [
    {
     "data": {
      "text/html": [
       "<div>\n",
       "<style scoped>\n",
       "    .dataframe tbody tr th:only-of-type {\n",
       "        vertical-align: middle;\n",
       "    }\n",
       "\n",
       "    .dataframe tbody tr th {\n",
       "        vertical-align: top;\n",
       "    }\n",
       "\n",
       "    .dataframe thead th {\n",
       "        text-align: right;\n",
       "    }\n",
       "</style>\n",
       "<table border=\"1\" class=\"dataframe\">\n",
       "  <thead>\n",
       "    <tr style=\"text-align: right;\">\n",
       "      <th></th>\n",
       "      <th>date_</th>\n",
       "      <th>user_id_maped</th>\n",
       "      <th>program_name</th>\n",
       "      <th>duration_seconds</th>\n",
       "      <th>program_class</th>\n",
       "      <th>season</th>\n",
       "      <th>episode</th>\n",
       "      <th>program_desc</th>\n",
       "      <th>program_genre</th>\n",
       "      <th>series_title</th>\n",
       "      <th>hd</th>\n",
       "      <th>original_name</th>\n",
       "      <th>vid_id</th>\n",
       "    </tr>\n",
       "  </thead>\n",
       "  <tbody>\n",
       "    <tr>\n",
       "      <th>0</th>\n",
       "      <td>2017-05-27</td>\n",
       "      <td>26138</td>\n",
       "      <td>100 treets</td>\n",
       "      <td>40</td>\n",
       "      <td>MOVIE</td>\n",
       "      <td>0</td>\n",
       "      <td>0</td>\n",
       "      <td>Drama Movie100 Streets</td>\n",
       "      <td>Drama</td>\n",
       "      <td>0</td>\n",
       "      <td>0</td>\n",
       "      <td>100 treets</td>\n",
       "      <td>2</td>\n",
       "    </tr>\n",
       "    <tr>\n",
       "      <th>1</th>\n",
       "      <td>2017-05-21</td>\n",
       "      <td>7946</td>\n",
       "      <td>Moana</td>\n",
       "      <td>17</td>\n",
       "      <td>MOVIE</td>\n",
       "      <td>0</td>\n",
       "      <td>0</td>\n",
       "      <td>Animation MovieMoana (HD)</td>\n",
       "      <td>Animation</td>\n",
       "      <td>0</td>\n",
       "      <td>1</td>\n",
       "      <td>Moana</td>\n",
       "      <td>924</td>\n",
       "    </tr>\n",
       "    <tr>\n",
       "      <th>2</th>\n",
       "      <td>2017-08-10</td>\n",
       "      <td>7418</td>\n",
       "      <td>The Mermaid Princess</td>\n",
       "      <td>8</td>\n",
       "      <td>MOVIE</td>\n",
       "      <td>0</td>\n",
       "      <td>0</td>\n",
       "      <td>Animation MovieThe Mermaid Princess (HD)</td>\n",
       "      <td>Animation</td>\n",
       "      <td>0</td>\n",
       "      <td>1</td>\n",
       "      <td>The Mermaid Princess</td>\n",
       "      <td>1524</td>\n",
       "    </tr>\n",
       "    <tr>\n",
       "      <th>3</th>\n",
       "      <td>2017-07-26</td>\n",
       "      <td>19307</td>\n",
       "      <td>The Mermaid Princess</td>\n",
       "      <td>76</td>\n",
       "      <td>MOVIE</td>\n",
       "      <td>0</td>\n",
       "      <td>0</td>\n",
       "      <td>Animation MovieThe Mermaid Princess (HD)</td>\n",
       "      <td>Animation</td>\n",
       "      <td>0</td>\n",
       "      <td>1</td>\n",
       "      <td>The Mermaid Princess</td>\n",
       "      <td>1524</td>\n",
       "    </tr>\n",
       "    <tr>\n",
       "      <th>4</th>\n",
       "      <td>2017-07-07</td>\n",
       "      <td>15860</td>\n",
       "      <td>Churchill</td>\n",
       "      <td>87</td>\n",
       "      <td>MOVIE</td>\n",
       "      <td>0</td>\n",
       "      <td>0</td>\n",
       "      <td>Biography MovieChurchill (HD)</td>\n",
       "      <td>Biography</td>\n",
       "      <td>0</td>\n",
       "      <td>1</td>\n",
       "      <td>Churchill</td>\n",
       "      <td>317</td>\n",
       "    </tr>\n",
       "  </tbody>\n",
       "</table>\n",
       "</div>"
      ],
      "text/plain": [
       "        date_  user_id_maped           program_name  duration_seconds  \\\n",
       "0  2017-05-27          26138             100 treets                40   \n",
       "1  2017-05-21           7946                 Moana                 17   \n",
       "2  2017-08-10           7418  The Mermaid Princess                  8   \n",
       "3  2017-07-26          19307  The Mermaid Princess                 76   \n",
       "4  2017-07-07          15860             Churchill                 87   \n",
       "\n",
       "  program_class  season  episode                              program_desc  \\\n",
       "0         MOVIE       0        0                    Drama Movie100 Streets   \n",
       "1         MOVIE       0        0                 Animation MovieMoana (HD)   \n",
       "2         MOVIE       0        0  Animation MovieThe Mermaid Princess (HD)   \n",
       "3         MOVIE       0        0  Animation MovieThe Mermaid Princess (HD)   \n",
       "4         MOVIE       0        0             Biography MovieChurchill (HD)   \n",
       "\n",
       "  program_genre  series_title  hd         original_name  vid_id  \n",
       "0         Drama             0   0            100 treets       2  \n",
       "1     Animation             0   1                 Moana     924  \n",
       "2     Animation             0   1  The Mermaid Princess    1524  \n",
       "3     Animation             0   1  The Mermaid Princess    1524  \n",
       "4     Biography             0   1             Churchill     317  "
      ]
     },
     "execution_count": 3,
     "metadata": {},
     "output_type": "execute_result"
    }
   ],
   "source": [
    "stc = stc.drop('Unnamed: 0', axis=1)\n",
    "# to create a unique id for videos\n",
    "df = stc.copy()\n",
    "df['vid_id'] = df.groupby(['original_name']).ngroup()\n",
    "df.head()"
   ]
  },
  {
   "cell_type": "code",
   "execution_count": 4,
   "metadata": {},
   "outputs": [
    {
     "data": {
      "text/html": [
       "<div>\n",
       "<style scoped>\n",
       "    .dataframe tbody tr th:only-of-type {\n",
       "        vertical-align: middle;\n",
       "    }\n",
       "\n",
       "    .dataframe tbody tr th {\n",
       "        vertical-align: top;\n",
       "    }\n",
       "\n",
       "    .dataframe thead th {\n",
       "        text-align: right;\n",
       "    }\n",
       "</style>\n",
       "<table border=\"1\" class=\"dataframe\">\n",
       "  <thead>\n",
       "    <tr style=\"text-align: right;\">\n",
       "      <th></th>\n",
       "      <th>date_</th>\n",
       "      <th>user_id_maped</th>\n",
       "      <th>program_name</th>\n",
       "      <th>duration_seconds</th>\n",
       "      <th>program_class</th>\n",
       "      <th>season</th>\n",
       "      <th>episode</th>\n",
       "      <th>program_desc</th>\n",
       "      <th>program_genre</th>\n",
       "      <th>series_title</th>\n",
       "      <th>hd</th>\n",
       "      <th>original_name</th>\n",
       "      <th>vid_id</th>\n",
       "    </tr>\n",
       "  </thead>\n",
       "  <tbody>\n",
       "    <tr>\n",
       "      <th>811953</th>\n",
       "      <td>2017-11-25</td>\n",
       "      <td>24123</td>\n",
       "      <td>The Addams Family</td>\n",
       "      <td>41</td>\n",
       "      <td>MOVIE</td>\n",
       "      <td>0</td>\n",
       "      <td>0</td>\n",
       "      <td>Comedy MovieThe Addams Family</td>\n",
       "      <td>Comedy</td>\n",
       "      <td>0</td>\n",
       "      <td>0</td>\n",
       "      <td>The Addams Family</td>\n",
       "      <td>1344</td>\n",
       "    </tr>\n",
       "  </tbody>\n",
       "</table>\n",
       "</div>"
      ],
      "text/plain": [
       "             date_  user_id_maped       program_name  duration_seconds  \\\n",
       "811953  2017-11-25          24123  The Addams Family                41   \n",
       "\n",
       "       program_class  season  episode                   program_desc  \\\n",
       "811953         MOVIE       0        0  Comedy MovieThe Addams Family   \n",
       "\n",
       "       program_genre  series_title  hd      original_name  vid_id  \n",
       "811953        Comedy             0   0  The Addams Family    1344  "
      ]
     },
     "execution_count": 4,
     "metadata": {},
     "output_type": "execute_result"
    }
   ],
   "source": [
    "df.sample()"
   ]
  },
  {
   "cell_type": "code",
   "execution_count": 17,
   "metadata": {},
   "outputs": [
    {
     "data": {
      "text/html": [
       "<div>\n",
       "<style scoped>\n",
       "    .dataframe tbody tr th:only-of-type {\n",
       "        vertical-align: middle;\n",
       "    }\n",
       "\n",
       "    .dataframe tbody tr th {\n",
       "        vertical-align: top;\n",
       "    }\n",
       "\n",
       "    .dataframe thead th {\n",
       "        text-align: right;\n",
       "    }\n",
       "</style>\n",
       "<table border=\"1\" class=\"dataframe\">\n",
       "  <thead>\n",
       "    <tr style=\"text-align: right;\">\n",
       "      <th></th>\n",
       "      <th>date_</th>\n",
       "      <th>user_id_maped</th>\n",
       "      <th>program_name</th>\n",
       "      <th>duration_seconds</th>\n",
       "      <th>program_class</th>\n",
       "      <th>season</th>\n",
       "      <th>episode</th>\n",
       "      <th>program_desc</th>\n",
       "      <th>program_genre</th>\n",
       "      <th>series_title</th>\n",
       "      <th>hd</th>\n",
       "      <th>original_name</th>\n",
       "      <th>vid_id</th>\n",
       "      <th>year</th>\n",
       "      <th>month</th>\n",
       "    </tr>\n",
       "  </thead>\n",
       "  <tbody>\n",
       "    <tr>\n",
       "      <th>3556372</th>\n",
       "      <td>2017-10-26</td>\n",
       "      <td>3730</td>\n",
       "      <td>Shimmer And hine  Dino Might!</td>\n",
       "      <td>1352</td>\n",
       "      <td>SERIES/EPISODES</td>\n",
       "      <td>1</td>\n",
       "      <td>4</td>\n",
       "      <td>Animation MovieDino Might! (HD)</td>\n",
       "      <td>Animation</td>\n",
       "      <td>0</td>\n",
       "      <td>0</td>\n",
       "      <td>Shimmer And hine</td>\n",
       "      <td>1207</td>\n",
       "      <td>2017</td>\n",
       "      <td>10</td>\n",
       "    </tr>\n",
       "    <tr>\n",
       "      <th>524983</th>\n",
       "      <td>2018-02-12</td>\n",
       "      <td>6596</td>\n",
       "      <td>Shimmer And hine  The First Wish (Part )</td>\n",
       "      <td>1292</td>\n",
       "      <td>SERIES/EPISODES</td>\n",
       "      <td>1</td>\n",
       "      <td>1</td>\n",
       "      <td>Animation MovieThe First Wish (Part 1) (HD)</td>\n",
       "      <td>Animation</td>\n",
       "      <td>0</td>\n",
       "      <td>0</td>\n",
       "      <td>Shimmer And hine</td>\n",
       "      <td>1207</td>\n",
       "      <td>2018</td>\n",
       "      <td>2</td>\n",
       "    </tr>\n",
       "    <tr>\n",
       "      <th>3165513</th>\n",
       "      <td>2017-10-01</td>\n",
       "      <td>6321</td>\n",
       "      <td>Kalam A-Nas    Ep12</td>\n",
       "      <td>8</td>\n",
       "      <td>SERIES/EPISODES</td>\n",
       "      <td>3</td>\n",
       "      <td>12</td>\n",
       "      <td>Comedy MovieKalam A-Nas, S03, Ep12 (HD)</td>\n",
       "      <td>Comedy</td>\n",
       "      <td>0</td>\n",
       "      <td>0</td>\n",
       "      <td>Kalam A-Nas</td>\n",
       "      <td>760</td>\n",
       "      <td>2017</td>\n",
       "      <td>10</td>\n",
       "    </tr>\n",
       "    <tr>\n",
       "      <th>1529610</th>\n",
       "      <td>2017-04-28</td>\n",
       "      <td>29977</td>\n",
       "      <td>Trolls</td>\n",
       "      <td>43</td>\n",
       "      <td>MOVIE</td>\n",
       "      <td>0</td>\n",
       "      <td>0</td>\n",
       "      <td>Animation MovieTrolls (HD)</td>\n",
       "      <td>Animation</td>\n",
       "      <td>0</td>\n",
       "      <td>1</td>\n",
       "      <td>Trolls</td>\n",
       "      <td>1690</td>\n",
       "      <td>2017</td>\n",
       "      <td>4</td>\n",
       "    </tr>\n",
       "    <tr>\n",
       "      <th>2141790</th>\n",
       "      <td>2017-09-07</td>\n",
       "      <td>6662</td>\n",
       "      <td>Pingu</td>\n",
       "      <td>325</td>\n",
       "      <td>SERIES/EPISODES</td>\n",
       "      <td>6</td>\n",
       "      <td>4</td>\n",
       "      <td>Animation MoviePingu, Season 6, Episode 5</td>\n",
       "      <td>Animation</td>\n",
       "      <td>0</td>\n",
       "      <td>0</td>\n",
       "      <td>Pingu</td>\n",
       "      <td>1057</td>\n",
       "      <td>2017</td>\n",
       "      <td>9</td>\n",
       "    </tr>\n",
       "    <tr>\n",
       "      <th>1125456</th>\n",
       "      <td>2017-10-29</td>\n",
       "      <td>32189</td>\n",
       "      <td>All is Bright</td>\n",
       "      <td>7</td>\n",
       "      <td>MOVIE</td>\n",
       "      <td>0</td>\n",
       "      <td>0</td>\n",
       "      <td>Comedy MovieAll is Bright</td>\n",
       "      <td>Comedy</td>\n",
       "      <td>0</td>\n",
       "      <td>0</td>\n",
       "      <td>All is Bright</td>\n",
       "      <td>94</td>\n",
       "      <td>2017</td>\n",
       "      <td>10</td>\n",
       "    </tr>\n",
       "  </tbody>\n",
       "</table>\n",
       "</div>"
      ],
      "text/plain": [
       "             date_  user_id_maped                               program_name  \\\n",
       "3556372 2017-10-26           3730             Shimmer And hine  Dino Might!    \n",
       "524983  2018-02-12           6596  Shimmer And hine  The First Wish (Part )    \n",
       "3165513 2017-10-01           6321                       Kalam A-Nas    Ep12    \n",
       "1529610 2017-04-28          29977                                    Trolls    \n",
       "2141790 2017-09-07           6662                                  Pingu       \n",
       "1125456 2017-10-29          32189                              All is Bright   \n",
       "\n",
       "         duration_seconds    program_class  season  episode  \\\n",
       "3556372              1352  SERIES/EPISODES       1        4   \n",
       "524983               1292  SERIES/EPISODES       1        1   \n",
       "3165513                 8  SERIES/EPISODES       3       12   \n",
       "1529610                43            MOVIE       0        0   \n",
       "2141790               325  SERIES/EPISODES       6        4   \n",
       "1125456                 7            MOVIE       0        0   \n",
       "\n",
       "                                        program_desc program_genre  \\\n",
       "3556372              Animation MovieDino Might! (HD)     Animation   \n",
       "524983   Animation MovieThe First Wish (Part 1) (HD)     Animation   \n",
       "3165513      Comedy MovieKalam A-Nas, S03, Ep12 (HD)        Comedy   \n",
       "1529610                   Animation MovieTrolls (HD)     Animation   \n",
       "2141790    Animation MoviePingu, Season 6, Episode 5     Animation   \n",
       "1125456                    Comedy MovieAll is Bright        Comedy   \n",
       "\n",
       "         series_title  hd       original_name  vid_id  year  month  \n",
       "3556372             0   0  Shimmer And hine      1207  2017     10  \n",
       "524983              0   0  Shimmer And hine      1207  2018      2  \n",
       "3165513             0   0       Kalam A-Nas       760  2017     10  \n",
       "1529610             0   1              Trolls    1690  2017      4  \n",
       "2141790             0   0             Pingu      1057  2017      9  \n",
       "1125456             0   0       All is Bright      94  2017     10  "
      ]
     },
     "execution_count": 17,
     "metadata": {},
     "output_type": "execute_result"
    }
   ],
   "source": [
    "df.sample(6)"
   ]
  },
  {
   "cell_type": "code",
   "execution_count": 5,
   "metadata": {},
   "outputs": [
    {
     "data": {
      "text/plain": [
       "Index(['date_', 'user_id_maped', 'program_name', 'duration_seconds',\n",
       "       'program_class', 'season', 'episode', 'program_desc', 'program_genre',\n",
       "       'series_title', 'hd', 'original_name'],\n",
       "      dtype='object')"
      ]
     },
     "execution_count": 5,
     "metadata": {},
     "output_type": "execute_result"
    }
   ],
   "source": [
    "stc.columns\n"
   ]
  },
  {
   "cell_type": "code",
   "execution_count": 6,
   "metadata": {},
   "outputs": [
    {
     "data": {
      "text/plain": [
       "Index(['date_', 'user_id_maped', 'program_name', 'duration_seconds',\n",
       "       'program_class', 'season', 'episode', 'program_desc', 'program_genre',\n",
       "       'series_title', 'hd', 'original_name', 'vid_id'],\n",
       "      dtype='object')"
      ]
     },
     "execution_count": 6,
     "metadata": {},
     "output_type": "execute_result"
    }
   ],
   "source": [
    "df.columns"
   ]
  },
  {
   "cell_type": "code",
   "execution_count": 7,
   "metadata": {},
   "outputs": [],
   "source": [
    "# create date year and months\n",
    "df['year']  =  [int(x[:4]) for x in df['date_']]\n",
    "df['month'] = [int(x[5:7]) for x in df['date_']]\n",
    "df['date_']  = pd.to_datetime(df.date_,format='%Y/%m/%d')"
   ]
  },
  {
   "cell_type": "code",
   "execution_count": 8,
   "metadata": {},
   "outputs": [
    {
     "data": {
      "text/html": [
       "<div>\n",
       "<style scoped>\n",
       "    .dataframe tbody tr th:only-of-type {\n",
       "        vertical-align: middle;\n",
       "    }\n",
       "\n",
       "    .dataframe tbody tr th {\n",
       "        vertical-align: top;\n",
       "    }\n",
       "\n",
       "    .dataframe thead th {\n",
       "        text-align: right;\n",
       "    }\n",
       "</style>\n",
       "<table border=\"1\" class=\"dataframe\">\n",
       "  <thead>\n",
       "    <tr style=\"text-align: right;\">\n",
       "      <th></th>\n",
       "      <th>date_</th>\n",
       "      <th>user_id_maped</th>\n",
       "      <th>program_name</th>\n",
       "      <th>duration_seconds</th>\n",
       "      <th>program_class</th>\n",
       "      <th>season</th>\n",
       "      <th>episode</th>\n",
       "      <th>program_desc</th>\n",
       "      <th>program_genre</th>\n",
       "      <th>series_title</th>\n",
       "      <th>hd</th>\n",
       "      <th>original_name</th>\n",
       "      <th>vid_id</th>\n",
       "      <th>year</th>\n",
       "      <th>month</th>\n",
       "    </tr>\n",
       "  </thead>\n",
       "  <tbody>\n",
       "    <tr>\n",
       "      <th>0</th>\n",
       "      <td>2017-05-27</td>\n",
       "      <td>26138</td>\n",
       "      <td>100 treets</td>\n",
       "      <td>40</td>\n",
       "      <td>MOVIE</td>\n",
       "      <td>0</td>\n",
       "      <td>0</td>\n",
       "      <td>Drama Movie100 Streets</td>\n",
       "      <td>Drama</td>\n",
       "      <td>0</td>\n",
       "      <td>0</td>\n",
       "      <td>100 treets</td>\n",
       "      <td>2</td>\n",
       "      <td>2017</td>\n",
       "      <td>5</td>\n",
       "    </tr>\n",
       "    <tr>\n",
       "      <th>1</th>\n",
       "      <td>2017-05-21</td>\n",
       "      <td>7946</td>\n",
       "      <td>Moana</td>\n",
       "      <td>17</td>\n",
       "      <td>MOVIE</td>\n",
       "      <td>0</td>\n",
       "      <td>0</td>\n",
       "      <td>Animation MovieMoana (HD)</td>\n",
       "      <td>Animation</td>\n",
       "      <td>0</td>\n",
       "      <td>1</td>\n",
       "      <td>Moana</td>\n",
       "      <td>924</td>\n",
       "      <td>2017</td>\n",
       "      <td>5</td>\n",
       "    </tr>\n",
       "    <tr>\n",
       "      <th>2</th>\n",
       "      <td>2017-08-10</td>\n",
       "      <td>7418</td>\n",
       "      <td>The Mermaid Princess</td>\n",
       "      <td>8</td>\n",
       "      <td>MOVIE</td>\n",
       "      <td>0</td>\n",
       "      <td>0</td>\n",
       "      <td>Animation MovieThe Mermaid Princess (HD)</td>\n",
       "      <td>Animation</td>\n",
       "      <td>0</td>\n",
       "      <td>1</td>\n",
       "      <td>The Mermaid Princess</td>\n",
       "      <td>1524</td>\n",
       "      <td>2017</td>\n",
       "      <td>8</td>\n",
       "    </tr>\n",
       "    <tr>\n",
       "      <th>3</th>\n",
       "      <td>2017-07-26</td>\n",
       "      <td>19307</td>\n",
       "      <td>The Mermaid Princess</td>\n",
       "      <td>76</td>\n",
       "      <td>MOVIE</td>\n",
       "      <td>0</td>\n",
       "      <td>0</td>\n",
       "      <td>Animation MovieThe Mermaid Princess (HD)</td>\n",
       "      <td>Animation</td>\n",
       "      <td>0</td>\n",
       "      <td>1</td>\n",
       "      <td>The Mermaid Princess</td>\n",
       "      <td>1524</td>\n",
       "      <td>2017</td>\n",
       "      <td>7</td>\n",
       "    </tr>\n",
       "    <tr>\n",
       "      <th>4</th>\n",
       "      <td>2017-07-07</td>\n",
       "      <td>15860</td>\n",
       "      <td>Churchill</td>\n",
       "      <td>87</td>\n",
       "      <td>MOVIE</td>\n",
       "      <td>0</td>\n",
       "      <td>0</td>\n",
       "      <td>Biography MovieChurchill (HD)</td>\n",
       "      <td>Biography</td>\n",
       "      <td>0</td>\n",
       "      <td>1</td>\n",
       "      <td>Churchill</td>\n",
       "      <td>317</td>\n",
       "      <td>2017</td>\n",
       "      <td>7</td>\n",
       "    </tr>\n",
       "  </tbody>\n",
       "</table>\n",
       "</div>"
      ],
      "text/plain": [
       "       date_  user_id_maped           program_name  duration_seconds  \\\n",
       "0 2017-05-27          26138             100 treets                40   \n",
       "1 2017-05-21           7946                 Moana                 17   \n",
       "2 2017-08-10           7418  The Mermaid Princess                  8   \n",
       "3 2017-07-26          19307  The Mermaid Princess                 76   \n",
       "4 2017-07-07          15860             Churchill                 87   \n",
       "\n",
       "  program_class  season  episode                              program_desc  \\\n",
       "0         MOVIE       0        0                    Drama Movie100 Streets   \n",
       "1         MOVIE       0        0                 Animation MovieMoana (HD)   \n",
       "2         MOVIE       0        0  Animation MovieThe Mermaid Princess (HD)   \n",
       "3         MOVIE       0        0  Animation MovieThe Mermaid Princess (HD)   \n",
       "4         MOVIE       0        0             Biography MovieChurchill (HD)   \n",
       "\n",
       "  program_genre  series_title  hd         original_name  vid_id  year  month  \n",
       "0         Drama             0   0            100 treets       2  2017      5  \n",
       "1     Animation             0   1                 Moana     924  2017      5  \n",
       "2     Animation             0   1  The Mermaid Princess    1524  2017      8  \n",
       "3     Animation             0   1  The Mermaid Princess    1524  2017      7  \n",
       "4     Biography             0   1             Churchill     317  2017      7  "
      ]
     },
     "execution_count": 8,
     "metadata": {},
     "output_type": "execute_result"
    }
   ],
   "source": [
    "df.head()"
   ]
  },
  {
   "cell_type": "code",
   "execution_count": 9,
   "metadata": {},
   "outputs": [
    {
     "name": "stdout",
     "output_type": "stream",
     "text": [
      "<class 'pandas.core.frame.DataFrame'>\n",
      "RangeIndex: 3598607 entries, 0 to 3598606\n",
      "Data columns (total 15 columns):\n",
      " #   Column            Dtype         \n",
      "---  ------            -----         \n",
      " 0   date_             datetime64[ns]\n",
      " 1   user_id_maped     int64         \n",
      " 2   program_name      object        \n",
      " 3   duration_seconds  int64         \n",
      " 4   program_class     object        \n",
      " 5   season            int64         \n",
      " 6   episode           int64         \n",
      " 7   program_desc      object        \n",
      " 8   program_genre     object        \n",
      " 9   series_title      int64         \n",
      " 10  hd                int64         \n",
      " 11  original_name     object        \n",
      " 12  vid_id            int64         \n",
      " 13  year              int64         \n",
      " 14  month             int64         \n",
      "dtypes: datetime64[ns](1), int64(9), object(5)\n",
      "memory usage: 411.8+ MB\n"
     ]
    }
   ],
   "source": [
    "df.info()"
   ]
  },
  {
   "cell_type": "code",
   "execution_count": 10,
   "metadata": {},
   "outputs": [
    {
     "data": {
      "text/plain": [
       "date_                   0\n",
       "user_id_maped           0\n",
       "program_name            0\n",
       "duration_seconds        0\n",
       "program_class           0\n",
       "season                  0\n",
       "episode                 0\n",
       "program_desc        43965\n",
       "program_genre           0\n",
       "series_title            0\n",
       "hd                      0\n",
       "original_name           0\n",
       "vid_id                  0\n",
       "year                    0\n",
       "month                   0\n",
       "dtype: int64"
      ]
     },
     "execution_count": 10,
     "metadata": {},
     "output_type": "execute_result"
    }
   ],
   "source": [
    "# check for nulls\n",
    "df.isna().sum()"
   ]
  },
  {
   "cell_type": "code",
   "execution_count": 12,
   "metadata": {},
   "outputs": [
    {
     "data": {
      "image/png": "[encoded data removed]",
      "text/plain": [
       "<Figure size 1008x720 with 1 Axes>"
      ]
     },
     "metadata": {
      "needs_background": "light"
     },
     "output_type": "display_data"
    }
   ],
   "source": [
    "\n",
    "genres = df.program_genre.value_counts()\n",
    "genres_count = pd.DataFrame(df.program_genre.value_counts()).reset_index()\n",
    "genres_count.columns = ['program_genre', 'movies']\n",
    "genres_count = genres_count.sort_values(['movies'], ascending=False)\n",
    "plt.figure(figsize=(14, 10))\n",
    "g = sns.barplot(x='program_genre', y='movies', data=genres_count.head(15))\n",
    "plt.setp(g.get_xticklabels(), rotation=45);"
   ]
  },
  {
   "cell_type": "code",
   "execution_count": 13,
   "metadata": {},
   "outputs": [
    {
     "data": {
      "image/png": "[encoded data removed]",
      "text/plain": [
       "<Figure size 3000x1050 with 1 Axes>"
      ]
     },
     "metadata": {
      "needs_background": "light"
     },
     "output_type": "display_data"
    }
   ],
   "source": [
    "# T.\n",
    "plt.figure(figsize=(20,7), dpi= 150)\n",
    "sns.set_style(\"darkgrid\")\n",
    "ax = sns.countplot(x=df['program_genre'], \n",
    "                   data = df, \n",
    "                   hue='hd',\n",
    "                   palette= ['brown', 'black'])\n",
    "\n",
    "plt.title('Count of HD based on Genre')\n",
    "plt.show()\n"
   ]
  },
  {
   "cell_type": "markdown",
   "metadata": {},
   "source": []
  },
  {
   "cell_type": "markdown",
   "metadata": {},
   "source": [
    "##DO SOME EDA"
   ]
  },
  {
   "cell_type": "markdown",
   "metadata": {},
   "source": [
    "TOP 5 watched Movies\n"
   ]
  },
  {
   "cell_type": "markdown",
   "metadata": {},
   "source": [
    "top 5 watched series "
   ]
  },
  {
   "cell_type": "code",
   "execution_count": 14,
   "metadata": {},
   "outputs": [
    {
     "data": {
      "text/plain": [
       "Text(0.5, 1.0, 'Top 5 Watched Movies')"
      ]
     },
     "execution_count": 14,
     "metadata": {},
     "output_type": "execute_result"
    },
    {
     "data": {
      "image/png": "[encoded data removed]",
      "text/plain": [
       "<Figure size 1224x720 with 1 Axes>"
      ]
     },
     "metadata": {},
     "output_type": "display_data"
    }
   ],
   "source": [
    "#movies dataframe\n",
    "movies = df.loc[df['program_class'] == 'MOVIE']\n",
    "#series\n",
    "series = df.loc[df['program_class'] == 'SERIES/EPISODES']\n",
    "plt.figure(figsize=(17, 10))\n",
    "\n",
    "ax = sns.countplot(x = \"program_name\", data = movies,\n",
    "              order = movies.program_name.value_counts().iloc[:5].index)\n",
    "\n",
    "ax.set(xlabel='Movie', ylabel='Count')\n",
    "plt.title('Top 5 Watched Movies')"
   ]
  },
  {
   "cell_type": "code",
   "execution_count": 15,
   "metadata": {},
   "outputs": [
    {
     "data": {
      "text/plain": [
       "Text(0.5, 1.0, 'Top 5 Watched Series')"
      ]
     },
     "execution_count": 15,
     "metadata": {},
     "output_type": "execute_result"
    },
    {
     "data": {
      "image/png": "[encoded data removed]",
      "text/plain": [
       "<Figure size 1224x720 with 1 Axes>"
      ]
     },
     "metadata": {},
     "output_type": "display_data"
    }
   ],
   "source": [
    "\n",
    "plt.figure(figsize=(17, 10))\n",
    "\n",
    "ax = sns.countplot(x = \"program_name\", data = series,\n",
    "              order = series.program_name.value_counts().iloc[:5].index)\n",
    "\n",
    "ax.set(xlabel = 'Series', ylabel = 'Count')\n",
    "plt.title('Top 5 Watched Series')"
   ]
  }
 ],
 "metadata": {
  "kernelspec": {
   "display_name": "Python 3.8.3 64-bit",
   "language": "python",
   "name": "python3"
  },
  "language_info": {
   "codemirror_mode": {
    "name": "ipython",
    "version": 3
   },
   "file_extension": ".py",
   "mimetype": "text/x-python",
   "name": "python",
   "nbconvert_exporter": "python",
   "pygments_lexer": "ipython3",
   "version": "3.8.3"
  },
  "orig_nbformat": 4,
  "vscode": {
   "interpreter": {
    "hash": "aee8b7b246df8f9039afb4144a1f6fd8d2ca17a180786b69acc140d282b71a49"
   }
  }
 },
 "nbformat": 4,
 "nbformat_minor": 2
}
