{
 "cells": [
  {
   "cell_type": "code",
   "execution_count": 1,
   "metadata": {},
   "outputs": [],
   "source": [
    "#pip install tmdbv3api \n",
    "from tmdbv3api import TMDb\n",
    "tmdb = TMDb()\n",
    "from tmdbv3api import Movie\n",
    "\n",
    "tmdb.api_key = '6727d8b68d506e9160ce54956c29d855'"
   ]
  },
  {
   "cell_type": "code",
   "execution_count": 2,
   "metadata": {},
   "outputs": [],
   "source": [
    "tmdb.language = 'en'\n",
    "tmdb.debug = True"
   ]
  },
  {
   "cell_type": "code",
   "execution_count": 3,
   "metadata": {},
   "outputs": [
    {
     "name": "stdout",
     "output_type": "stream",
     "text": [
      "Pirates of the Caribbean: At World's End\n",
      "Pirates of the Caribbean: On Stranger Tides\n",
      "Pirates of the Caribbean: The Curse of the Black Pearl\n",
      "Pirates of the Caribbean: Dead Men Tell No Tales\n",
      "Harry Potter and the Deathly Hallows: Part 1\n",
      "Harry Potter and the Order of the Phoenix\n",
      "Harry Potter and the Half-Blood Prince\n",
      "Harry Potter and the Goblet of Fire\n",
      "Harry Potter and the Chamber of Secrets\n",
      "Harry Potter and the Deathly Hallows: Part 2\n",
      "Harry Potter and the Prisoner of Azkaban\n",
      "Spider-Man\n",
      "Men in Black\n",
      "Ice Age\n",
      "The Lord of the Rings: The Two Towers\n",
      "Harry Potter and the Philosopher's Stone\n",
      "Iron Man 2\n",
      "Sherlock Holmes\n",
      "Finding Nemo\n",
      "Alice in Wonderland\n",
      "Spider-Man 2\n"
     ]
    }
   ],
   "source": [
    "\n",
    "movie = Movie()\n",
    "\n",
    "recommendations = movie.recommendations(movie_id=58)\n",
    "\n",
    "for recommendation in recommendations:\n",
    "    print(recommendation.title)\n"
   ]
  },
  {
   "cell_type": "code",
   "execution_count": 4,
   "metadata": {},
   "outputs": [
    {
     "name": "stdout",
     "output_type": "stream",
     "text": [
      "Peter Parker is going through a major identity crisis. Burned out from being Spider-Man, he decides to shelve his superhero alter ego, which leaves the city suffering in the wake of carnage left by the evil Doc Ock. In the meantime, Parker still can't act on his feelings for Mary Jane Watson, a girl he's loved since childhood. A certain anger begins to brew in his best friend Harry Osborn as well...\n"
     ]
    }
   ],
   "source": [
    "    print(recommendation.overview)"
   ]
  }
 ],
 "metadata": {
  "kernelspec": {
   "display_name": "Python 3.8.3 64-bit",
   "language": "python",
   "name": "python3"
  },
  "language_info": {
   "codemirror_mode": {
    "name": "ipython",
    "version": 3
   },
   "file_extension": ".py",
   "mimetype": "text/x-python",
   "name": "python",
   "nbconvert_exporter": "python",
   "pygments_lexer": "ipython3",
   "version": "3.8.3"
  },
  "orig_nbformat": 4,
  "vscode": {
   "interpreter": {
    "hash": "aee8b7b246df8f9039afb4144a1f6fd8d2ca17a180786b69acc140d282b71a49"
   }
  }
 },
 "nbformat": 4,
 "nbformat_minor": 2
}
